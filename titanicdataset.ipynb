{
 "cells": [
  {
   "cell_type": "markdown",
   "metadata": {
    "id": "mvW7hVH5GfQV"
   },
   "source": [
    "# 1.Import Data & Python Packages\n",
    "\n",
    "Step 1. We import the necessary packages and read the data into a DataFrame."
   ]
  },
  {
   "cell_type": "code",
   "execution_count": 1,
   "metadata": {
    "id": "zXDkN8t-GfQX"
   },
   "outputs": [],
   "source": [
    "import numpy as np\n",
    "import pandas as pd\n",
    "import matplotlib.pyplot as plt\n",
    "import seaborn as sns\n",
    "from sklearn import preprocessing"
   ]
  },
  {
   "cell_type": "code",
   "execution_count": 4,
   "metadata": {
    "id": "qiQ6AO-eGfQY"
   },
   "outputs": [],
   "source": [
    "# Read CSV train data file into DataFrame\n",
    "\n",
    "#Uncomment if unable to read\n",
    "train_df = pd.read_csv(\"https://raw.githubusercontent.com/tylerdurdn/TitanicDataset/main/train.csv\") \n",
    "#train_df = pd.read_csv('train.csv')\n",
    "\n",
    "#Read CSV test data file into DataFrame\n",
    "\n",
    "#Uncomment if unable to read\n",
    "test_df = pd.read_csv(\"https://raw.githubusercontent.com/tylerdurdn/TitanicDataset/main/test.csv\")\n",
    "#test_df = pd.read_csv('test_csv')"
   ]
  },
  {
   "cell_type": "code",
   "execution_count": 5,
   "metadata": {
    "colab": {
     "base_uri": "https://localhost:8080/",
     "height": 204
    },
    "id": "2CNJb2SpGfQY",
    "outputId": "94dc5541-e489-4f49-c80f-f12dcc89667c"
   },
   "outputs": [
    {
     "data": {
      "text/html": [
       "<div>\n",
       "<style scoped>\n",
       "    .dataframe tbody tr th:only-of-type {\n",
       "        vertical-align: middle;\n",
       "    }\n",
       "\n",
       "    .dataframe tbody tr th {\n",
       "        vertical-align: top;\n",
       "    }\n",
       "\n",
       "    .dataframe thead th {\n",
       "        text-align: right;\n",
       "    }\n",
       "</style>\n",
       "<table border=\"1\" class=\"dataframe\">\n",
       "  <thead>\n",
       "    <tr style=\"text-align: right;\">\n",
       "      <th></th>\n",
       "      <th>PassengerId</th>\n",
       "      <th>Survived</th>\n",
       "      <th>Pclass</th>\n",
       "      <th>Name</th>\n",
       "      <th>Sex</th>\n",
       "      <th>Age</th>\n",
       "      <th>SibSp</th>\n",
       "      <th>Parch</th>\n",
       "      <th>Ticket</th>\n",
       "      <th>Fare</th>\n",
       "      <th>Cabin</th>\n",
       "      <th>Embarked</th>\n",
       "    </tr>\n",
       "  </thead>\n",
       "  <tbody>\n",
       "    <tr>\n",
       "      <th>0</th>\n",
       "      <td>1</td>\n",
       "      <td>0</td>\n",
       "      <td>3</td>\n",
       "      <td>Braund, Mr. Owen Harris</td>\n",
       "      <td>male</td>\n",
       "      <td>22.0</td>\n",
       "      <td>1</td>\n",
       "      <td>0</td>\n",
       "      <td>A/5 21171</td>\n",
       "      <td>7.2500</td>\n",
       "      <td>NaN</td>\n",
       "      <td>S</td>\n",
       "    </tr>\n",
       "    <tr>\n",
       "      <th>1</th>\n",
       "      <td>2</td>\n",
       "      <td>1</td>\n",
       "      <td>1</td>\n",
       "      <td>Cumings, Mrs. John Bradley (Florence Briggs Th...</td>\n",
       "      <td>female</td>\n",
       "      <td>38.0</td>\n",
       "      <td>1</td>\n",
       "      <td>0</td>\n",
       "      <td>PC 17599</td>\n",
       "      <td>71.2833</td>\n",
       "      <td>C85</td>\n",
       "      <td>C</td>\n",
       "    </tr>\n",
       "    <tr>\n",
       "      <th>2</th>\n",
       "      <td>3</td>\n",
       "      <td>1</td>\n",
       "      <td>3</td>\n",
       "      <td>Heikkinen, Miss. Laina</td>\n",
       "      <td>female</td>\n",
       "      <td>26.0</td>\n",
       "      <td>0</td>\n",
       "      <td>0</td>\n",
       "      <td>STON/O2. 3101282</td>\n",
       "      <td>7.9250</td>\n",
       "      <td>NaN</td>\n",
       "      <td>S</td>\n",
       "    </tr>\n",
       "    <tr>\n",
       "      <th>3</th>\n",
       "      <td>4</td>\n",
       "      <td>1</td>\n",
       "      <td>1</td>\n",
       "      <td>Futrelle, Mrs. Jacques Heath (Lily May Peel)</td>\n",
       "      <td>female</td>\n",
       "      <td>35.0</td>\n",
       "      <td>1</td>\n",
       "      <td>0</td>\n",
       "      <td>113803</td>\n",
       "      <td>53.1000</td>\n",
       "      <td>C123</td>\n",
       "      <td>S</td>\n",
       "    </tr>\n",
       "    <tr>\n",
       "      <th>4</th>\n",
       "      <td>5</td>\n",
       "      <td>0</td>\n",
       "      <td>3</td>\n",
       "      <td>Allen, Mr. William Henry</td>\n",
       "      <td>male</td>\n",
       "      <td>35.0</td>\n",
       "      <td>0</td>\n",
       "      <td>0</td>\n",
       "      <td>373450</td>\n",
       "      <td>8.0500</td>\n",
       "      <td>NaN</td>\n",
       "      <td>S</td>\n",
       "    </tr>\n",
       "  </tbody>\n",
       "</table>\n",
       "</div>"
      ],
      "text/plain": [
       "   PassengerId  Survived  Pclass  \\\n",
       "0            1         0       3   \n",
       "1            2         1       1   \n",
       "2            3         1       3   \n",
       "3            4         1       1   \n",
       "4            5         0       3   \n",
       "\n",
       "                                                Name     Sex   Age  SibSp  \\\n",
       "0                            Braund, Mr. Owen Harris    male  22.0      1   \n",
       "1  Cumings, Mrs. John Bradley (Florence Briggs Th...  female  38.0      1   \n",
       "2                             Heikkinen, Miss. Laina  female  26.0      0   \n",
       "3       Futrelle, Mrs. Jacques Heath (Lily May Peel)  female  35.0      1   \n",
       "4                           Allen, Mr. William Henry    male  35.0      0   \n",
       "\n",
       "   Parch            Ticket     Fare Cabin Embarked  \n",
       "0      0         A/5 21171   7.2500   NaN        S  \n",
       "1      0          PC 17599  71.2833   C85        C  \n",
       "2      0  STON/O2. 3101282   7.9250   NaN        S  \n",
       "3      0            113803  53.1000  C123        S  \n",
       "4      0            373450   8.0500   NaN        S  "
      ]
     },
     "execution_count": 5,
     "metadata": {},
     "output_type": "execute_result"
    }
   ],
   "source": [
    "train_df.head()"
   ]
  },
  {
   "cell_type": "code",
   "execution_count": 6,
   "metadata": {
    "colab": {
     "base_uri": "https://localhost:8080/"
    },
    "id": "WKxYQnJVGfQZ",
    "outputId": "339570d7-aed3-4ba5-ca2f-18a467fcbf0e"
   },
   "outputs": [
    {
     "name": "stdout",
     "output_type": "stream",
     "text": [
      "Total number of samples in train dataset 891\n"
     ]
    }
   ],
   "source": [
    "print(\"Total number of samples in train dataset {}\".format(train_df.shape[0]))"
   ]
  },
  {
   "cell_type": "code",
   "execution_count": 7,
   "metadata": {
    "colab": {
     "base_uri": "https://localhost:8080/",
     "height": 204
    },
    "id": "5SdqPH_DGfQZ",
    "outputId": "4a17a225-becd-4374-86f5-443e30efd10f"
   },
   "outputs": [
    {
     "data": {
      "text/html": [
       "<div>\n",
       "<style scoped>\n",
       "    .dataframe tbody tr th:only-of-type {\n",
       "        vertical-align: middle;\n",
       "    }\n",
       "\n",
       "    .dataframe tbody tr th {\n",
       "        vertical-align: top;\n",
       "    }\n",
       "\n",
       "    .dataframe thead th {\n",
       "        text-align: right;\n",
       "    }\n",
       "</style>\n",
       "<table border=\"1\" class=\"dataframe\">\n",
       "  <thead>\n",
       "    <tr style=\"text-align: right;\">\n",
       "      <th></th>\n",
       "      <th>PassengerId</th>\n",
       "      <th>Pclass</th>\n",
       "      <th>Name</th>\n",
       "      <th>Sex</th>\n",
       "      <th>Age</th>\n",
       "      <th>SibSp</th>\n",
       "      <th>Parch</th>\n",
       "      <th>Ticket</th>\n",
       "      <th>Fare</th>\n",
       "      <th>Cabin</th>\n",
       "      <th>Embarked</th>\n",
       "    </tr>\n",
       "  </thead>\n",
       "  <tbody>\n",
       "    <tr>\n",
       "      <th>0</th>\n",
       "      <td>892</td>\n",
       "      <td>3</td>\n",
       "      <td>Kelly, Mr. James</td>\n",
       "      <td>male</td>\n",
       "      <td>34.5</td>\n",
       "      <td>0</td>\n",
       "      <td>0</td>\n",
       "      <td>330911</td>\n",
       "      <td>7.8292</td>\n",
       "      <td>NaN</td>\n",
       "      <td>Q</td>\n",
       "    </tr>\n",
       "    <tr>\n",
       "      <th>1</th>\n",
       "      <td>893</td>\n",
       "      <td>3</td>\n",
       "      <td>Wilkes, Mrs. James (Ellen Needs)</td>\n",
       "      <td>female</td>\n",
       "      <td>47.0</td>\n",
       "      <td>1</td>\n",
       "      <td>0</td>\n",
       "      <td>363272</td>\n",
       "      <td>7.0000</td>\n",
       "      <td>NaN</td>\n",
       "      <td>S</td>\n",
       "    </tr>\n",
       "    <tr>\n",
       "      <th>2</th>\n",
       "      <td>894</td>\n",
       "      <td>2</td>\n",
       "      <td>Myles, Mr. Thomas Francis</td>\n",
       "      <td>male</td>\n",
       "      <td>62.0</td>\n",
       "      <td>0</td>\n",
       "      <td>0</td>\n",
       "      <td>240276</td>\n",
       "      <td>9.6875</td>\n",
       "      <td>NaN</td>\n",
       "      <td>Q</td>\n",
       "    </tr>\n",
       "    <tr>\n",
       "      <th>3</th>\n",
       "      <td>895</td>\n",
       "      <td>3</td>\n",
       "      <td>Wirz, Mr. Albert</td>\n",
       "      <td>male</td>\n",
       "      <td>27.0</td>\n",
       "      <td>0</td>\n",
       "      <td>0</td>\n",
       "      <td>315154</td>\n",
       "      <td>8.6625</td>\n",
       "      <td>NaN</td>\n",
       "      <td>S</td>\n",
       "    </tr>\n",
       "    <tr>\n",
       "      <th>4</th>\n",
       "      <td>896</td>\n",
       "      <td>3</td>\n",
       "      <td>Hirvonen, Mrs. Alexander (Helga E Lindqvist)</td>\n",
       "      <td>female</td>\n",
       "      <td>22.0</td>\n",
       "      <td>1</td>\n",
       "      <td>1</td>\n",
       "      <td>3101298</td>\n",
       "      <td>12.2875</td>\n",
       "      <td>NaN</td>\n",
       "      <td>S</td>\n",
       "    </tr>\n",
       "  </tbody>\n",
       "</table>\n",
       "</div>"
      ],
      "text/plain": [
       "   PassengerId  Pclass                                          Name     Sex  \\\n",
       "0          892       3                              Kelly, Mr. James    male   \n",
       "1          893       3              Wilkes, Mrs. James (Ellen Needs)  female   \n",
       "2          894       2                     Myles, Mr. Thomas Francis    male   \n",
       "3          895       3                              Wirz, Mr. Albert    male   \n",
       "4          896       3  Hirvonen, Mrs. Alexander (Helga E Lindqvist)  female   \n",
       "\n",
       "    Age  SibSp  Parch   Ticket     Fare Cabin Embarked  \n",
       "0  34.5      0      0   330911   7.8292   NaN        Q  \n",
       "1  47.0      1      0   363272   7.0000   NaN        S  \n",
       "2  62.0      0      0   240276   9.6875   NaN        Q  \n",
       "3  27.0      0      0   315154   8.6625   NaN        S  \n",
       "4  22.0      1      1  3101298  12.2875   NaN        S  "
      ]
     },
     "execution_count": 7,
     "metadata": {},
     "output_type": "execute_result"
    }
   ],
   "source": [
    "test_df.head()"
   ]
  },
  {
   "cell_type": "code",
   "execution_count": 8,
   "metadata": {
    "colab": {
     "base_uri": "https://localhost:8080/"
    },
    "id": "IyKUoQlpGfQa",
    "outputId": "6262ea76-adb3-4598-b36a-2f3f50b9fc84"
   },
   "outputs": [
    {
     "name": "stdout",
     "output_type": "stream",
     "text": [
      "Total number of samples in test dataset 418\n"
     ]
    }
   ],
   "source": [
    "print(\"Total number of samples in test dataset {}\".format(test_df.shape[0]))"
   ]
  },
  {
   "cell_type": "markdown",
   "metadata": {
    "id": "3kVxPuGwGfQa"
   },
   "source": [
    "Note: The goal is to predict the survival column in the test dataset."
   ]
  },
  {
   "cell_type": "markdown",
   "metadata": {
    "id": "usiTx7tsGfQa"
   },
   "source": [
    "# 2. Data Quality & Missing Value Assessment\n",
    "\n",
    "Step 2. Data in its raw form needs to be assessed and cleansed , missing values need to be filled."
   ]
  },
  {
   "cell_type": "code",
   "execution_count": 9,
   "metadata": {
    "colab": {
     "base_uri": "https://localhost:8080/"
    },
    "id": "aWpDEejpGfQb",
    "outputId": "002789fa-9b52-41a8-d8bd-154eaf667f45"
   },
   "outputs": [
    {
     "data": {
      "text/plain": [
       "PassengerId      0\n",
       "Survived         0\n",
       "Pclass           0\n",
       "Name             0\n",
       "Sex              0\n",
       "Age            177\n",
       "SibSp            0\n",
       "Parch            0\n",
       "Ticket           0\n",
       "Fare             0\n",
       "Cabin          687\n",
       "Embarked         2\n",
       "dtype: int64"
      ]
     },
     "execution_count": 9,
     "metadata": {},
     "output_type": "execute_result"
    }
   ],
   "source": [
    "#Count of Missing values in training dataframe\n",
    "train_df.isnull().sum()"
   ]
  },
  {
   "cell_type": "code",
   "execution_count": 10,
   "metadata": {
    "colab": {
     "base_uri": "https://localhost:8080/"
    },
    "id": "GC0RV0gfGfQb",
    "outputId": "fbc727f4-bd60-4877-ab3e-b95e0df6e466"
   },
   "outputs": [
    {
     "data": {
      "text/plain": [
       "PassengerId      0\n",
       "Pclass           0\n",
       "Name             0\n",
       "Sex              0\n",
       "Age             86\n",
       "SibSp            0\n",
       "Parch            0\n",
       "Ticket           0\n",
       "Fare             1\n",
       "Cabin          327\n",
       "Embarked         0\n",
       "dtype: int64"
      ]
     },
     "execution_count": 10,
     "metadata": {},
     "output_type": "execute_result"
    }
   ],
   "source": [
    "#Count of Missing values in testing dataframe\n",
    "test_df.isnull().sum()"
   ]
  },
  {
   "cell_type": "markdown",
   "metadata": {
    "id": "3DKZti2dGfQb"
   },
   "source": [
    "The Age, Cabin, Embarked and Fare columns have missing values in our training and testing dataframe and we will be individually assessing them."
   ]
  },
  {
   "cell_type": "markdown",
   "metadata": {
    "id": "QXJ1xqOfGfQc"
   },
   "source": [
    "## 2.1 Age - Missing Values"
   ]
  },
  {
   "cell_type": "code",
   "execution_count": 11,
   "metadata": {
    "colab": {
     "base_uri": "https://localhost:8080/"
    },
    "id": "MFuTIYnLGfQc",
    "outputId": "519b1c41-f8ae-4e41-c24b-5ab095774053"
   },
   "outputs": [
    {
     "name": "stdout",
     "output_type": "stream",
     "text": [
      "Percent of Missing Age records: 19.865319865319865%\n"
     ]
    }
   ],
   "source": [
    "#percent of missing \"Age\"\n",
    "agePercent = ((train_df['Age'].isnull().sum()/train_df.shape[0]))*100\n",
    "print(\"Percent of Missing Age records: {}%\".format(agePercent))"
   ]
  },
  {
   "cell_type": "code",
   "execution_count": 12,
   "metadata": {
    "colab": {
     "base_uri": "https://localhost:8080/",
     "height": 282
    },
    "id": "a1J42xAHGfQc",
    "outputId": "ade2fc4e-665b-4798-cee2-5d83d119d97c"
   },
   "outputs": [
    {
     "data": {
      "image/png": "[encoded data removed]",
      "text/plain": [
       "<Figure size 432x288 with 1 Axes>"
      ]
     },
     "metadata": {
      "needs_background": "light"
     },
     "output_type": "display_data"
    }
   ],
   "source": [
    "ax = train_df['Age'].hist(bins=15, density=True)\n",
    "train_df['Age'].plot(kind='density', color='black')\n",
    "ax.set(xlabel='Age')\n",
    "plt.xlim(-10,85)\n",
    "plt.show()"
   ]
  },
  {
   "cell_type": "markdown",
   "metadata": {
    "id": "_ZE20du4GfQc"
   },
   "source": [
    "Since our data is skewed to the right , using mean to fill the null records might gives us biased results. Thus we will use median to fill our data."
   ]
  },
  {
   "cell_type": "code",
   "execution_count": 13,
   "metadata": {
    "colab": {
     "base_uri": "https://localhost:8080/"
    },
    "id": "XPzI1m4BGfQd",
    "outputId": "17db3f9b-78da-4fde-d81a-898bcd9aff02"
   },
   "outputs": [
    {
     "name": "stdout",
     "output_type": "stream",
     "text": [
      "The median of Age is 28.00\n"
     ]
    }
   ],
   "source": [
    "# median age\n",
    "print('The median of Age is %.2f' %(train_df[\"Age\"].median()))"
   ]
  },
  {
   "cell_type": "markdown",
   "metadata": {
    "id": "RsV_1B_nGfQd"
   },
   "source": [
    "## 2.2 Cabin - Missing Values"
   ]
  },
  {
   "cell_type": "code",
   "execution_count": 14,
   "metadata": {
    "colab": {
     "base_uri": "https://localhost:8080/"
    },
    "id": "DzTs6vb7GfQd",
    "outputId": "57e561fe-c966-4149-cb71-88144f6ff9f1"
   },
   "outputs": [
    {
     "name": "stdout",
     "output_type": "stream",
     "text": [
      "Percent of Missing Cabin records: 77.10437710437711%\n"
     ]
    }
   ],
   "source": [
    "#percent of missing \"Cabin\"\n",
    "cabinPercent = ((train_df['Cabin'].isnull().sum()/train_df.shape[0])*100)\n",
    "print(\"Percent of Missing Cabin records: {}%\".format(cabinPercent))"
   ]
  },
  {
   "cell_type": "markdown",
   "metadata": {
    "id": "Ums8n6SMGfQd"
   },
   "source": [
    "77% of the records are missing , it is unwise to use this variable for prediction and we cannot justify imputing imformation in the missing records. We will ignore this variable in our model."
   ]
  },
  {
   "cell_type": "markdown",
   "metadata": {
    "id": "Rw8PyZasGfQe"
   },
   "source": [
    "## 2.3 Embarked - Missing Values"
   ]
  },
  {
   "cell_type": "code",
   "execution_count": 15,
   "metadata": {
    "colab": {
     "base_uri": "https://localhost:8080/"
    },
    "id": "fwBY40JHGfQe",
    "outputId": "a8ea0b53-e2b3-4caf-bb32-fc5bc030d9e7"
   },
   "outputs": [
    {
     "name": "stdout",
     "output_type": "stream",
     "text": [
      "Percent of Missing Embarked records: 0.22446689113355783%\n"
     ]
    }
   ],
   "source": [
    "#percent of missing \"Embarked\"\n",
    "embarkedPercent = (train_df['Embarked'].isnull().sum()/train_df.shape[0])*100\n",
    "print(\"Percent of Missing Embarked records: {}%\".format(embarkedPercent))"
   ]
  },
  {
   "cell_type": "markdown",
   "metadata": {
    "id": "jd-M9SmZGfQe"
   },
   "source": [
    "Since there are only 2 missing values for the embarked column we can just replace them with the most common value."
   ]
  },
  {
   "cell_type": "code",
   "execution_count": 16,
   "metadata": {
    "colab": {
     "base_uri": "https://localhost:8080/"
    },
    "id": "uHHGg2A7GfQe",
    "outputId": "18d30556-725e-4c0f-f6dd-563653bf7168"
   },
   "outputs": [
    {
     "name": "stdout",
     "output_type": "stream",
     "text": [
      "Boarded passengers grouped:\n",
      "S    644\n",
      "C    168\n",
      "Q     77\n",
      "Name: Embarked, dtype: int64\n"
     ]
    }
   ],
   "source": [
    "print('Boarded passengers grouped:')\n",
    "print(train_df['Embarked'].value_counts())"
   ]
  },
  {
   "cell_type": "markdown",
   "metadata": {
    "id": "49k5DWU4GfQe"
   },
   "source": [
    "The most common embarkment is from S."
   ]
  },
  {
   "cell_type": "markdown",
   "metadata": {
    "id": "b5e0MI-XGfQf"
   },
   "source": [
    "## 2.4 Fare - Missing Values"
   ]
  },
  {
   "cell_type": "markdown",
   "metadata": {
    "id": "ZIfs0DdhGfQf"
   },
   "source": [
    "There is 1 missing value in our Fare column in the testing DataFrame. We can replace it with the median."
   ]
  },
  {
   "cell_type": "code",
   "execution_count": 17,
   "metadata": {
    "colab": {
     "base_uri": "https://localhost:8080/"
    },
    "id": "t0-iausSGfQf",
    "outputId": "f9abb42d-eec7-464a-e273-c82ac8d288f8"
   },
   "outputs": [
    {
     "name": "stdout",
     "output_type": "stream",
     "text": [
      "The median of Fare is 14.45\n"
     ]
    }
   ],
   "source": [
    "#median Fare\n",
    "print('The median of Fare is %.2f' %(test_df[\"Fare\"].median()))"
   ]
  },
  {
   "cell_type": "markdown",
   "metadata": {
    "id": "rlXq2aJBGfQf"
   },
   "source": [
    "## 2.4 Final Adjustments to our Data (Train and Test)\n",
    "\n",
    "The following changes will be made to our existing datasets:\n",
    "\n",
    "1. All the missing values in the 'Age' column will be replaced by the Median (28.0) age.\n",
    "2. ALl the missing values in the 'Embarked' column will be replaced by the most common (s) embarkment.\n",
    "3. 'Cabin' as a variable will be ignored due to too many values missing."
   ]
  },
  {
   "cell_type": "code",
   "execution_count": 18,
   "metadata": {
    "id": "Ar-jdAm9GfQf"
   },
   "outputs": [],
   "source": [
    "#Adjustment to training data\n",
    "train_data = train_df.copy()\n",
    "train_data['Age'].fillna(value=28, inplace=True)\n",
    "train_data['Embarked'].fillna(value='S', inplace=True)\n",
    "train_data.drop('Cabin', axis=1, inplace=True)"
   ]
  },
  {
   "cell_type": "code",
   "execution_count": 19,
   "metadata": {
    "colab": {
     "base_uri": "https://localhost:8080/"
    },
    "id": "Ff7Y78_nGfQf",
    "outputId": "fca1910f-c983-45c7-8265-ea3e7922f684"
   },
   "outputs": [
    {
     "data": {
      "text/plain": [
       "PassengerId    0\n",
       "Survived       0\n",
       "Pclass         0\n",
       "Name           0\n",
       "Sex            0\n",
       "Age            0\n",
       "SibSp          0\n",
       "Parch          0\n",
       "Ticket         0\n",
       "Fare           0\n",
       "Embarked       0\n",
       "dtype: int64"
      ]
     },
     "execution_count": 19,
     "metadata": {},
     "output_type": "execute_result"
    }
   ],
   "source": [
    "#check for missing values in training data\n",
    "train_data.isnull().sum()"
   ]
  },
  {
   "cell_type": "code",
   "execution_count": 20,
   "metadata": {
    "id": "2FaaEusTGfQg"
   },
   "outputs": [],
   "source": [
    "#Adjustment to testing data\n",
    "test_data = test_df.copy()\n",
    "test_data['Age'].fillna(value=28,inplace=True)\n",
    "test_data['Fare'].fillna(value=14.45,inplace=True)\n",
    "test_data.drop('Cabin', axis=1, inplace=True)"
   ]
  },
  {
   "cell_type": "code",
   "execution_count": 21,
   "metadata": {
    "colab": {
     "base_uri": "https://localhost:8080/"
    },
    "id": "dmqcT4KmGfQg",
    "outputId": "c9e0db81-58a8-4a44-cba8-7860623ba269"
   },
   "outputs": [
    {
     "data": {
      "text/plain": [
       "PassengerId    0\n",
       "Pclass         0\n",
       "Name           0\n",
       "Sex            0\n",
       "Age            0\n",
       "SibSp          0\n",
       "Parch          0\n",
       "Ticket         0\n",
       "Fare           0\n",
       "Embarked       0\n",
       "dtype: int64"
      ]
     },
     "execution_count": 21,
     "metadata": {},
     "output_type": "execute_result"
    }
   ],
   "source": [
    "#check for missing values in testing data\n",
    "test_data.isnull().sum()"
   ]
  },
  {
   "cell_type": "markdown",
   "metadata": {
    "id": "D4Fc5fstGfQg"
   },
   "source": [
    "### Aditional changes to simplify our data\n",
    "\n",
    "SibSp and Parch relate to whether the individual was travelling alone or with family members. These two can be combined to form a single predictor."
   ]
  },
  {
   "cell_type": "code",
   "execution_count": 22,
   "metadata": {
    "id": "IAI9GjVfGfQg"
   },
   "outputs": [],
   "source": [
    "#Create a new variable to indicate if the individual was travelling alone and drop the existing columns as the\n",
    "#column combines the effect of both.\n",
    "train_data['TravelAlone'] = np.where((train_data['SibSp']+train_data['Parch'])>0, 0, 1)\n",
    "train_data.drop('SibSp', axis=1, inplace=True)\n",
    "train_data.drop('Parch', axis=1, inplace=True)\n",
    "\n",
    "test_data['TravelAlone'] = np.where((test_data['SibSp']+test_data['Parch'])>0, 0, 1)\n",
    "test_data.drop('SibSp', axis=1, inplace=True)\n",
    "test_data.drop('Parch', axis=1, inplace=True)\n"
   ]
  },
  {
   "cell_type": "markdown",
   "metadata": {
    "id": "GVwpwtKaGfQh"
   },
   "source": [
    "Categorical variables for 'Pclass', 'Embarked' and 'Sex' are created to make our data more qualitative."
   ]
  },
  {
   "cell_type": "code",
   "execution_count": 23,
   "metadata": {
    "id": "Dq3i6qE3GfQh"
   },
   "outputs": [],
   "source": [
    "#Create categorical variables and drop variables which have no need in the prediction of data\n",
    "training=pd.get_dummies(train_data, columns=['Pclass','Embarked','Sex'])\n",
    "training.drop('Sex_female',axis=1,inplace=True)\n",
    "training.drop('PassengerId',axis=1,inplace=True)\n",
    "training.drop('Name',axis=1,inplace=True)\n",
    "training.drop('Ticket',axis=1,inplace=True)\n",
    "\n",
    "final_train = training\n",
    "\n",
    "testing = pd.get_dummies(test_data, columns=[\"Pclass\",\"Embarked\",\"Sex\"])\n",
    "testing.drop('Sex_female', axis=1, inplace=True)\n",
    "testing.drop('PassengerId', axis=1, inplace=True)\n",
    "testing.drop('Name', axis=1, inplace=True)\n",
    "testing.drop('Ticket', axis=1, inplace=True)\n",
    "\n",
    "final_test = testing\n"
   ]
  },
  {
   "cell_type": "markdown",
   "metadata": {
    "id": "jA2m7eRVGfQh"
   },
   "source": [
    "# 3. Data Analysis\n",
    "\n",
    "Step 3. Once the data is cleansed we need to analyse how the data maybe effecting our final value that we are trying to predict , individual variables plead their worth and how useful they maybe in training our model."
   ]
  },
  {
   "cell_type": "markdown",
   "metadata": {
    "id": "M8n1bGivGfQh"
   },
   "source": [
    "## 3.1 Age"
   ]
  },
  {
   "cell_type": "code",
   "execution_count": 24,
   "metadata": {
    "colab": {
     "base_uri": "https://localhost:8080/",
     "height": 295
    },
    "id": "yhQroYF1GfQi",
    "outputId": "3331778d-0fec-4631-e8c4-8bad40bf7747"
   },
   "outputs": [
    {
     "data": {
      "image/png": "[encoded data removed]",
      "text/plain": [
       "<Figure size 432x288 with 1 Axes>"
      ]
     },
     "metadata": {
      "needs_background": "light"
     },
     "output_type": "display_data"
    }
   ],
   "source": [
    "sns.kdeplot(final_train['Age'][final_train.Survived == 1],shade=True)\n",
    "sns.kdeplot(final_train['Age'][final_train.Survived == 0],shade=True)\n",
    "plt.legend(['Survived','Died'])\n",
    "plt.title('Density Plot of Age for Surviving Population and Dead population')\n",
    "plt.show()"
   ]
  },
  {
   "cell_type": "markdown",
   "metadata": {
    "id": "mZg8K88OGfQi"
   },
   "source": [
    "The age distribution of survivors and dead are very similar with the difference in the number of children saved compared to the number of children that died.\n",
    "Thus we can introduce another categorical "
   ]
  },
  {
   "cell_type": "code",
   "execution_count": 25,
   "metadata": {
    "colab": {
     "base_uri": "https://localhost:8080/",
     "height": 395
    },
    "id": "_m9hwOk0GfQi",
    "outputId": "98d71fd4-fbae-49cf-fc42-f12a2a0251d4"
   },
   "outputs": [
    {
     "data": {
      "image/png": "[encoded data removed]",
      "text/plain": [
       "<Figure size 2880x576 with 1 Axes>"
      ]
     },
     "metadata": {
      "needs_background": "light"
     },
     "output_type": "display_data"
    }
   ],
   "source": [
    "plt.figure(figsize=(40,8))\n",
    "survival_byage = final_train[[\"Age\", \"Survived\"]].groupby(['Age'], as_index=False).mean()\n",
    "g = sns.barplot(x='Age', y='Survived', data=survival_byage, color = 'green')\n",
    "plt.show()"
   ]
  },
  {
   "cell_type": "markdown",
   "metadata": {
    "id": "vKQQ1RZINkgA"
   },
   "source": [
    "As we can se the survival rate of individuals below the age of 16 and higher than 62 have very high survival rates. Thus we will add another variable young_aged."
   ]
  },
  {
   "cell_type": "code",
   "execution_count": 26,
   "metadata": {
    "id": "lssfTaqrGfQi"
   },
   "outputs": [],
   "source": [
    "#Add a new categorical variable young_aged \n",
    "final_train['young_aged']=np.where(final_train['Age']<16, 1, 0)\n",
    "final_train['young_aged']=np.where(final_train['Age']>62,1,0)\n",
    "\n",
    "final_test['young_aged']=np.where(final_test['Age']<16, 1, 0)\n",
    "final_test['young_aged']=np.where(final_test['Age']>62,1,0)\n"
   ]
  },
  {
   "cell_type": "markdown",
   "metadata": {
    "id": "FKmWN8sQQJCI"
   },
   "source": [
    "## 3.2 Fare"
   ]
  },
  {
   "cell_type": "code",
   "execution_count": 27,
   "metadata": {
    "colab": {
     "base_uri": "https://localhost:8080/",
     "height": 295
    },
    "id": "-mLuunKDGfQj",
    "outputId": "21156f40-c747-4611-d03f-00371c375853"
   },
   "outputs": [
    {
     "data": {
      "image/png": "[encoded data removed]",
      "text/plain": [
       "<Figure size 432x288 with 1 Axes>"
      ]
     },
     "metadata": {
      "needs_background": "light"
     },
     "output_type": "display_data"
    }
   ],
   "source": [
    "sns.kdeplot(final_train['Fare'][final_train.Survived == 1],shade=True)\n",
    "sns.kdeplot(final_train['Fare'][final_train.Survived == 0],shade=True)\n",
    "plt.legend(['Survived','Died'])\n",
    "plt.title('Density Plot of Fare for Surviving Population and Dead population')\n",
    "plt.show()"
   ]
  },
  {
   "cell_type": "markdown",
   "metadata": {
    "id": "Y9hHSbIaQ5NC"
   },
   "source": [
    "The distributions are very different for the fares of survivors vs those who died. Thus this could be a significant predictor in our final model."
   ]
  },
  {
   "cell_type": "markdown",
   "metadata": {
    "id": "c-8dPfrfRRXh"
   },
   "source": [
    "## 3.3 Pclass"
   ]
  },
  {
   "cell_type": "code",
   "execution_count": 28,
   "metadata": {
    "colab": {
     "base_uri": "https://localhost:8080/",
     "height": 279
    },
    "id": "Q6Sp6dWRGfQj",
    "outputId": "a1153bf9-88c1-4852-c14f-80b2a597c4b0"
   },
   "outputs": [
    {
     "data": {
      "image/png": "[encoded data removed]",
      "text/plain": [
       "<Figure size 432x288 with 1 Axes>"
      ]
     },
     "metadata": {
      "needs_background": "light"
     },
     "output_type": "display_data"
    }
   ],
   "source": [
    "sns.barplot(x='Pclass', y='Survived', data=train_df)\n",
    "plt.show()"
   ]
  },
  {
   "cell_type": "markdown",
   "metadata": {
    "id": "7qxWIrUaR2_F"
   },
   "source": [
    "First class members had a better chance at survival and were given priority."
   ]
  },
  {
   "cell_type": "markdown",
   "metadata": {
    "id": "Js2O0bLfSUxt"
   },
   "source": [
    "## 3.4 Embarked"
   ]
  },
  {
   "cell_type": "code",
   "execution_count": 29,
   "metadata": {
    "colab": {
     "base_uri": "https://localhost:8080/",
     "height": 279
    },
    "id": "chM231FLSYf3",
    "outputId": "2ade4fd8-1717-4dea-b5c0-bbe15688c811"
   },
   "outputs": [
    {
     "data": {
      "image/png": "[encoded data removed]",
      "text/plain": [
       "<Figure size 432x288 with 1 Axes>"
      ]
     },
     "metadata": {
      "needs_background": "light"
     },
     "output_type": "display_data"
    }
   ],
   "source": [
    "sns.barplot(x='Embarked', y='Survived', data=train_df)\n",
    "plt.show()"
   ]
  },
  {
   "cell_type": "markdown",
   "metadata": {
    "id": "1-uo5hQaSh1P"
   },
   "source": [
    "People who embarked at C had a better chance at survival compared to the other two."
   ]
  },
  {
   "cell_type": "markdown",
   "metadata": {
    "id": "AVaisY8uSyfg"
   },
   "source": [
    "## 3.5 Travelling alone vs Family"
   ]
  },
  {
   "cell_type": "code",
   "execution_count": 30,
   "metadata": {
    "colab": {
     "base_uri": "https://localhost:8080/",
     "height": 279
    },
    "id": "9Yf9J3boS1aX",
    "outputId": "00eb18a0-16c1-43c3-b571-6c636763022e"
   },
   "outputs": [
    {
     "data": {
      "image/png": "[encoded data removed]",
      "text/plain": [
       "<Figure size 432x288 with 1 Axes>"
      ]
     },
     "metadata": {
      "needs_background": "light"
     },
     "output_type": "display_data"
    }
   ],
   "source": [
    "sns.barplot(x='TravelAlone', y='Survived', data=final_train)\n",
    "plt.show()"
   ]
  },
  {
   "cell_type": "markdown",
   "metadata": {
    "id": "sIW2tpf1S-De"
   },
   "source": [
    "Individuals travelling alone were more likely to die than those with family abord."
   ]
  },
  {
   "cell_type": "markdown",
   "metadata": {
    "id": "xZc-lPwETFrk"
   },
   "source": [
    "## 3.6 Sex "
   ]
  },
  {
   "cell_type": "code",
   "execution_count": 31,
   "metadata": {
    "colab": {
     "base_uri": "https://localhost:8080/",
     "height": 279
    },
    "id": "K2R7T9t8TMew",
    "outputId": "6356bec4-bba7-4f8d-bb59-5cb5deab7e54"
   },
   "outputs": [
    {
     "data": {
      "image/png": "[encoded data removed]",
      "text/plain": [
       "<Figure size 432x288 with 1 Axes>"
      ]
     },
     "metadata": {
      "needs_background": "light"
     },
     "output_type": "display_data"
    }
   ],
   "source": [
    "sns.barplot(x='Sex', y='Survived', data=train_df)\n",
    "plt.show()"
   ]
  },
  {
   "cell_type": "markdown",
   "metadata": {
    "id": "iZ1zvyGHTVkv"
   },
   "source": [
    "Clearly being a female increased the chances of your survival."
   ]
  },
  {
   "cell_type": "markdown",
   "metadata": {
    "id": "reTUMnfRUczZ"
   },
   "source": [
    "# 4. Logistic Regression and Results\n",
    "\n",
    "Step 4. We chose the model and train it using our training data and then apply that model to predict the final value on our dest data."
   ]
  },
  {
   "cell_type": "markdown",
   "metadata": {
    "id": "qKV-Ryq1XqmW"
   },
   "source": [
    "## 4.1 Feature Selection\n",
    "\n",
    "It is important to reduce the number of input variables when devloping a predictive model. It is desirable to reduce the number of variables to reduce the computational cost of modelling and in certain cases to improve the performance of the model. According to the data analysis done in section 3 , the following features are selected.\n",
    "\n",
    "Selected_features = 'Age', 'Fare', 'TravelAlone', 'Pclass_1', 'Pclass_2', 'Embarked_C', 'Embarked_S', 'Sex_male', 'young_aged'"
   ]
  },
  {
   "cell_type": "code",
   "execution_count": 32,
   "metadata": {
    "colab": {
     "base_uri": "https://localhost:8080/",
     "height": 321
    },
    "id": "-IiJcMwWYHel",
    "outputId": "0dbf48f3-1e95-4d7f-f49a-da7155a5de94"
   },
   "outputs": [
    {
     "data": {
      "image/png": "[encoded data removed]",
      "text/plain": [
       "<Figure size 432x288 with 2 Axes>"
      ]
     },
     "metadata": {
      "needs_background": "light"
     },
     "output_type": "display_data"
    }
   ],
   "source": [
    "Selected_features = ['Age', 'Fare', 'TravelAlone', 'Pclass_1', 'Pclass_2', 'Embarked_C', 'Embarked_S', 'Sex_male', 'young_aged']\n",
    "X = final_train[Selected_features]\n",
    "\n",
    "sns.heatmap(X.corr(), cmap=\"RdYlGn\", annot=True)\n",
    "plt.show()"
   ]
  },
  {
   "cell_type": "markdown",
   "metadata": {
    "id": "_c1q9sBIfupg"
   },
   "source": [
    "## 4.2 Model Evalutation\n",
    "\n",
    "The following model is based on simple train/test split using train_test_split function."
   ]
  },
  {
   "cell_type": "code",
   "execution_count": 33,
   "metadata": {
    "id": "MWZROk_bepRr"
   },
   "outputs": [],
   "source": [
    "from sklearn.linear_model import LogisticRegression # Logistic Regression\n",
    "from sklearn.model_selection import train_test_split #for split the data\n",
    "from sklearn.metrics import accuracy_score #for accuracy_score\n",
    "from sklearn.metrics import confusion_matrix,log_loss #for confusion matrix"
   ]
  },
  {
   "cell_type": "code",
   "execution_count": 35,
   "metadata": {
    "colab": {
     "base_uri": "https://localhost:8080/"
    },
    "id": "9X3_d8BYerIX",
    "outputId": "801f8065-98e6-4f0a-aa76-c9289b41ee74"
   },
   "outputs": [
    {
     "name": "stdout",
     "output_type": "stream",
     "text": [
      "Train/Test split results:\n",
      "Logistic Regression accuracy is 0.782\n",
      "Logistic Regression log_loss is 0.507\n"
     ]
    }
   ],
   "source": [
    "Y = final_train['Survived']\n",
    "\n",
    "#Use train/test split with different random_state values\n",
    "X_train, X_test, Y_train, y_test = train_test_split(X, Y, test_size=0.2, random_state=2)\n",
    "\n",
    "logreg = LogisticRegression(max_iter=200)\n",
    "logreg.fit(X_train, Y_train)\n",
    "y_pred = logreg.predict(X_test)\n",
    "y_pred_proba = logreg.predict_proba(X_test)[:, 1]\n",
    "\n",
    "print('Train/Test split results:')\n",
    "print(\"Logistic Regression accuracy is %2.3f\" % accuracy_score(y_test, y_pred))\n",
    "print(\"Logistic Regression log_loss is %2.3f\" % log_loss(y_test, y_pred_proba))"
   ]
  },
  {
   "cell_type": "markdown",
   "metadata": {
    "id": "QKgdh-5slmNP"
   },
   "source": [
    "Confusion Matrix - "
   ]
  },
  {
   "cell_type": "code",
   "execution_count": 36,
   "metadata": {
    "colab": {
     "base_uri": "https://localhost:8080/",
     "height": 295
    },
    "id": "imc94VDtloPy",
    "outputId": "1a0a314e-b369-4ae0-c723-3eb4eabcd031"
   },
   "outputs": [
    {
     "data": {
      "image/png": "[encoded data removed]",
      "text/plain": [
       "<Figure size 432x288 with 2 Axes>"
      ]
     },
     "metadata": {
      "needs_background": "light"
     },
     "output_type": "display_data"
    }
   ],
   "source": [
    "cm = confusion_matrix(Y_test,y_pred)\n",
    "plt.title('Confusion matrix on Training data')\n",
    "sns.heatmap(cm, annot=True, fmt='d', cmap=plt.cm.Greens)\n",
    "plt.xlabel('Predicted Label')\n",
    "plt.ylabel('True Label')\n",
    "plt.show()"
   ]
  },
  {
   "cell_type": "markdown",
   "metadata": {
    "id": "FWtDzXoemS-z"
   },
   "source": [
    "### Analysis of the Confusion Matrix\n",
    "*   True positive: 88 (We predicted a positive result and it was positive)\n",
    "*   True negative: 52 (We predicted a negative result and it was negative)\n",
    "*   False positive: 12 (We predicted a positive result and it was negative)\n",
    "*   False negative: 27 (We predicted a negative result and it was positive)\n"
   ]
  },
  {
   "cell_type": "markdown",
   "metadata": {
    "id": "RxcZ0OZ1sLWK"
   },
   "source": [
    "## 4.4 Predicting values in test data (final_test)"
   ]
  },
  {
   "cell_type": "code",
   "execution_count": 37,
   "metadata": {
    "colab": {
     "base_uri": "https://localhost:8080/",
     "height": 419
    },
    "id": "1Hsk9dazsV9P",
    "outputId": "2231eb03-697c-4190-a2aa-45af16ee496e"
   },
   "outputs": [
    {
     "data": {
      "text/html": [
       "<div>\n",
       "<style scoped>\n",
       "    .dataframe tbody tr th:only-of-type {\n",
       "        vertical-align: middle;\n",
       "    }\n",
       "\n",
       "    .dataframe tbody tr th {\n",
       "        vertical-align: top;\n",
       "    }\n",
       "\n",
       "    .dataframe thead th {\n",
       "        text-align: right;\n",
       "    }\n",
       "</style>\n",
       "<table border=\"1\" class=\"dataframe\">\n",
       "  <thead>\n",
       "    <tr style=\"text-align: right;\">\n",
       "      <th></th>\n",
       "      <th>PassengerId</th>\n",
       "      <th>Survived</th>\n",
       "    </tr>\n",
       "  </thead>\n",
       "  <tbody>\n",
       "    <tr>\n",
       "      <th>0</th>\n",
       "      <td>892</td>\n",
       "      <td>0</td>\n",
       "    </tr>\n",
       "    <tr>\n",
       "      <th>1</th>\n",
       "      <td>893</td>\n",
       "      <td>0</td>\n",
       "    </tr>\n",
       "    <tr>\n",
       "      <th>2</th>\n",
       "      <td>894</td>\n",
       "      <td>0</td>\n",
       "    </tr>\n",
       "    <tr>\n",
       "      <th>3</th>\n",
       "      <td>895</td>\n",
       "      <td>0</td>\n",
       "    </tr>\n",
       "    <tr>\n",
       "      <th>4</th>\n",
       "      <td>896</td>\n",
       "      <td>1</td>\n",
       "    </tr>\n",
       "    <tr>\n",
       "      <th>...</th>\n",
       "      <td>...</td>\n",
       "      <td>...</td>\n",
       "    </tr>\n",
       "    <tr>\n",
       "      <th>413</th>\n",
       "      <td>1305</td>\n",
       "      <td>0</td>\n",
       "    </tr>\n",
       "    <tr>\n",
       "      <th>414</th>\n",
       "      <td>1306</td>\n",
       "      <td>1</td>\n",
       "    </tr>\n",
       "    <tr>\n",
       "      <th>415</th>\n",
       "      <td>1307</td>\n",
       "      <td>0</td>\n",
       "    </tr>\n",
       "    <tr>\n",
       "      <th>416</th>\n",
       "      <td>1308</td>\n",
       "      <td>0</td>\n",
       "    </tr>\n",
       "    <tr>\n",
       "      <th>417</th>\n",
       "      <td>1309</td>\n",
       "      <td>0</td>\n",
       "    </tr>\n",
       "  </tbody>\n",
       "</table>\n",
       "<p>418 rows × 2 columns</p>\n",
       "</div>"
      ],
      "text/plain": [
       "     PassengerId  Survived\n",
       "0            892         0\n",
       "1            893         0\n",
       "2            894         0\n",
       "3            895         0\n",
       "4            896         1\n",
       "..           ...       ...\n",
       "413         1305         0\n",
       "414         1306         1\n",
       "415         1307         0\n",
       "416         1308         0\n",
       "417         1309         0\n",
       "\n",
       "[418 rows x 2 columns]"
      ]
     },
     "execution_count": 37,
     "metadata": {},
     "output_type": "execute_result"
    }
   ],
   "source": [
    "final_test['Survived'] = logreg.predict(final_test[Selected_features])\n",
    "final_test['PassengerId'] = test_df['PassengerId']\n",
    "\n",
    "submission = final_test[['PassengerId','Survived']]\n",
    "submission"
   ]
  },
  {
   "cell_type": "code",
   "execution_count": 38,
   "metadata": {
    "colab": {
     "base_uri": "https://localhost:8080/"
    },
    "id": "oO0Xwdn6tu8M",
    "outputId": "084898da-6927-4d74-eb48-f2f7fb2a5e3e"
   },
   "outputs": [
    {
     "data": {
      "text/plain": [
       "0    271\n",
       "1    147\n",
       "Name: Survived, dtype: int64"
      ]
     },
     "execution_count": 38,
     "metadata": {},
     "output_type": "execute_result"
    }
   ],
   "source": [
    "submission['Survived'].value_counts()"
   ]
  },
  {
   "cell_type": "code",
   "execution_count": 46,
   "metadata": {
    "id": "4PBhssbD7cjU"
   },
   "outputs": [],
   "source": [
    "submission.to_csv(\"G:\\Git\\TitanicDataset\\submission.csv\", index = False)"
   ]
  },
  {
   "cell_type": "code",
   "execution_count": null,
   "metadata": {},
   "outputs": [],
   "source": []
  }
 ],
 "metadata": {
  "colab": {
   "collapsed_sections": [],
   "name": "titanicdataset.ipynb",
   "provenance": []
  },
  "kernelspec": {
   "display_name": "Python 3",
   "language": "python",
   "name": "python3"
  },
  "language_info": {
   "codemirror_mode": {
    "name": "ipython",
    "version": 3
   },
   "file_extension": ".py",
   "mimetype": "text/x-python",
   "name": "python",
   "nbconvert_exporter": "python",
   "pygments_lexer": "ipython3",
   "version": "3.8.8"
  }
 },
 "nbformat": 4,
 "nbformat_minor": 1
}
